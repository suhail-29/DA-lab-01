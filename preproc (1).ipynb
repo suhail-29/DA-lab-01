{
  "nbformat": 4,
  "nbformat_minor": 0,
  "metadata": {
    "colab": {
      "provenance": []
    },
    "kernelspec": {
      "name": "python3",
      "display_name": "Python 3"
    },
    "language_info": {
      "name": "python"
    }
  },
  "cells": [
    {
      "cell_type": "code",
      "execution_count": null,
      "metadata": {
        "id": "Yw0Qb12i5P_u"
      },
      "outputs": [],
      "source": [
        "import numpy as np\n",
        "import pandas as pd"
      ]
    },
    {
      "cell_type": "code",
      "source": [
        "df = pd.read_csv('/content/Aviation History.csv')"
      ],
      "metadata": {
        "id": "hd1AVwr45VJN"
      },
      "execution_count": null,
      "outputs": []
    },
    {
      "cell_type": "code",
      "source": [
        "print(df.head())"
      ],
      "metadata": {
        "colab": {
          "base_uri": "https://localhost:8080/"
        },
        "id": "s9ikdR6O6Iq8",
        "outputId": "33d71eac-f266-4f06-9f85-572409e46f39"
      },
      "execution_count": null,
      "outputs": [
        {
          "output_type": "stream",
          "name": "stdout",
          "text": [
            "                  Country Name Country Code       1970       1971       1972  \\\n",
            "0                        Aruba          ABW        NaN        NaN        NaN   \n",
            "1  Africa Eastern and Southern          AFE  3418300.0  3775300.0  4074500.0   \n",
            "2                  Afghanistan          AFG    84700.0    97400.0   104900.0   \n",
            "3   Africa Western and Central          AFW  1167000.0  1238100.0  1285700.0   \n",
            "4                       Angola          AGO        NaN        NaN        NaN   \n",
            "\n",
            "        1973       1974       1975       1976       1977  ...          2011  \\\n",
            "0        NaN        NaN        NaN        NaN        NaN  ...           NaN   \n",
            "1  4808000.0  5126100.0  5333100.0  6040400.0  5798900.0  ...  3.350782e+07   \n",
            "2    96600.0    96100.0    99000.0   101700.0   111200.0  ...  2.279341e+06   \n",
            "3  1453300.0  1685700.0  1987500.0  2540000.0  2962100.0  ...  9.140452e+06   \n",
            "4        NaN        NaN        NaN   155400.0   282700.0  ...  9.877980e+05   \n",
            "\n",
            "           2012         2013         2014        2015        2016  \\\n",
            "0           NaN          NaN          NaN         NaN         NaN   \n",
            "1  3.583868e+07  35112457.82  36350758.95  39154692.0  41553429.0   \n",
            "2  1.737962e+06   2044188.00   2209428.00   1929907.0   1917924.0   \n",
            "3  9.570162e+06   8677884.00   8030237.17   8696300.0   8129874.0   \n",
            "4  1.132424e+06   1321872.00   1409952.00   1244491.0   1482546.0   \n",
            "\n",
            "          2017         2018          2019  2020  \n",
            "0    223502.00    274280.00           NaN   NaN  \n",
            "1  45423814.08  52613964.08  5.433525e+07   NaN  \n",
            "2   1647425.00   1125367.00  1.066747e+06   NaN  \n",
            "3   8837017.00  12337766.28  1.134659e+07   NaN  \n",
            "4   1375523.00   1516628.00  1.436959e+06   NaN  \n",
            "\n",
            "[5 rows x 53 columns]\n"
          ]
        }
      ]
    },
    {
      "cell_type": "code",
      "source": [
        "print(df.tail())"
      ],
      "metadata": {
        "colab": {
          "base_uri": "https://localhost:8080/"
        },
        "id": "K5hfjzls6sTD",
        "outputId": "f9063439-21b0-41aa-c1e2-2c0cc616835f"
      },
      "execution_count": null,
      "outputs": [
        {
          "output_type": "stream",
          "name": "stdout",
          "text": [
            "     Country Name Country Code       1970       1971       1972       1973  \\\n",
            "261        Kosovo          XKX        NaN        NaN        NaN        NaN   \n",
            "262   Yemen, Rep.          YEM    25900.0    54500.0    57000.0    61500.0   \n",
            "263  South Africa          ZAF  1519000.0  1659500.0  1868100.0  2313800.0   \n",
            "264        Zambia          ZMB   187800.0   214200.0   230100.0   230600.0   \n",
            "265      Zimbabwe          ZWE   267400.0   291300.0   315000.0   340000.0   \n",
            "\n",
            "          1974       1975       1976       1977  ...          2011  \\\n",
            "261        NaN        NaN        NaN        NaN  ...           NaN   \n",
            "262    66500.0    70000.0   262800.0   275000.0  ...  1.492073e+06   \n",
            "263  2763600.0  2936400.0  2998800.0  3076800.0  ...  1.640778e+07   \n",
            "264   240600.0   232600.0   256800.0   299400.0  ...  3.060343e+05   \n",
            "265        NaN        NaN        NaN        NaN  ...  2.793476e+05   \n",
            "\n",
            "             2012        2013         2014        2015        2016  \\\n",
            "261           NaN         NaN          NaN         NaN         NaN   \n",
            "262  1.299707e+06   1664220.0   1665552.00    443685.0    242723.0   \n",
            "263  1.757157e+07  16311250.0  17026643.22  18882898.0  19744932.0   \n",
            "264  1.272966e+05     10032.0      8592.00    203617.0    144060.0   \n",
            "265  3.209460e+05    351564.0    301260.00    370165.0    378803.0   \n",
            "\n",
            "           2017          2018          2019  2020  \n",
            "261         NaN           NaN           NaN   NaN  \n",
            "262    132571.0  3.363100e+05           NaN   NaN  \n",
            "263  20821044.0  2.466039e+07  2.565018e+07   NaN  \n",
            "264    154573.0  1.663314e+04  1.750569e+04   NaN  \n",
            "265    282539.0  2.825390e+05           NaN   NaN  \n",
            "\n",
            "[5 rows x 53 columns]\n"
          ]
        }
      ]
    },
    {
      "cell_type": "code",
      "source": [
        "print(df.info())"
      ],
      "metadata": {
        "colab": {
          "base_uri": "https://localhost:8080/"
        },
        "id": "WRZ-g1mofKCi",
        "outputId": "9abdf547-8a14-4c9d-cb15-a4a42d99c111"
      },
      "execution_count": null,
      "outputs": [
        {
          "output_type": "stream",
          "name": "stdout",
          "text": [
            "<class 'pandas.core.frame.DataFrame'>\n",
            "RangeIndex: 266 entries, 0 to 265\n",
            "Data columns (total 53 columns):\n",
            " #   Column        Non-Null Count  Dtype  \n",
            "---  ------        --------------  -----  \n",
            " 0   Country Name  266 non-null    object \n",
            " 1   Country Code  266 non-null    object \n",
            " 2   1970          147 non-null    float64\n",
            " 3   1971          149 non-null    float64\n",
            " 4   1972          147 non-null    float64\n",
            " 5   1973          151 non-null    float64\n",
            " 6   1974          165 non-null    float64\n",
            " 7   1975          170 non-null    float64\n",
            " 8   1976          174 non-null    float64\n",
            " 9   1977          174 non-null    float64\n",
            " 10  1978          175 non-null    float64\n",
            " 11  1979          177 non-null    float64\n",
            " 12  1980          182 non-null    float64\n",
            " 13  1981          185 non-null    float64\n",
            " 14  1982          187 non-null    float64\n",
            " 15  1983          187 non-null    float64\n",
            " 16  1984          190 non-null    float64\n",
            " 17  1985          191 non-null    float64\n",
            " 18  1986          191 non-null    float64\n",
            " 19  1987          192 non-null    float64\n",
            " 20  1988          193 non-null    float64\n",
            " 21  1989          193 non-null    float64\n",
            " 22  1990          193 non-null    float64\n",
            " 23  1991          197 non-null    float64\n",
            " 24  1992          206 non-null    float64\n",
            " 25  1993          210 non-null    float64\n",
            " 26  1994          212 non-null    float64\n",
            " 27  1995          208 non-null    float64\n",
            " 28  1996          210 non-null    float64\n",
            " 29  1997          211 non-null    float64\n",
            " 30  1998          212 non-null    float64\n",
            " 31  1999          206 non-null    float64\n",
            " 32  2000          204 non-null    float64\n",
            " 33  2001          203 non-null    float64\n",
            " 34  2002          191 non-null    float64\n",
            " 35  2003          192 non-null    float64\n",
            " 36  2004          190 non-null    float64\n",
            " 37  2005          181 non-null    float64\n",
            " 38  2006          180 non-null    float64\n",
            " 39  2007          180 non-null    float64\n",
            " 40  2008          182 non-null    float64\n",
            " 41  2009          184 non-null    float64\n",
            " 42  2010          207 non-null    float64\n",
            " 43  2011          207 non-null    float64\n",
            " 44  2012          207 non-null    float64\n",
            " 45  2013          206 non-null    float64\n",
            " 46  2014          206 non-null    float64\n",
            " 47  2015          202 non-null    float64\n",
            " 48  2016          203 non-null    float64\n",
            " 49  2017          202 non-null    float64\n",
            " 50  2018          205 non-null    float64\n",
            " 51  2019          202 non-null    float64\n",
            " 52  2020          0 non-null      float64\n",
            "dtypes: float64(51), object(2)\n",
            "memory usage: 110.3+ KB\n",
            "None\n"
          ]
        }
      ]
    },
    {
      "cell_type": "code",
      "source": [
        "print(df.describe())"
      ],
      "metadata": {
        "colab": {
          "base_uri": "https://localhost:8080/"
        },
        "id": "GaFYaI_CfeZS",
        "outputId": "f74b9b28-d64e-4f9c-b82b-ac6109c417f1"
      },
      "execution_count": null,
      "outputs": [
        {
          "output_type": "stream",
          "name": "stdout",
          "text": [
            "               1970          1971          1972          1973          1974  \\\n",
            "count  1.470000e+02  1.490000e+02  1.470000e+02  1.510000e+02  1.650000e+02   \n",
            "mean   1.265398e+07  1.335837e+07  1.243960e+07  1.590382e+07  1.741613e+07   \n",
            "std    4.957508e+07  5.268738e+07  5.066706e+07  6.280551e+07  6.280652e+07   \n",
            "min    1.040000e+04  8.500000e+03  9.000000e+03  9.500000e+03  0.000000e+00   \n",
            "25%    1.675000e+05  1.827000e+05  1.888500e+05  2.100500e+05  2.206000e+05   \n",
            "50%    6.576000e+05  7.148000e+05  7.856000e+05  8.190000e+05  1.116900e+06   \n",
            "75%    3.205300e+06  3.354500e+06  3.681500e+06  4.165600e+06  5.126100e+06   \n",
            "max    3.104414e+08  3.316049e+08  3.270041e+08  4.015718e+08  4.211452e+08   \n",
            "\n",
            "               1975          1976          1977          1978          1979  \\\n",
            "count  1.700000e+02  1.740000e+02  1.740000e+02  1.750000e+02  1.770000e+02   \n",
            "mean   1.757977e+07  1.884453e+07  2.050578e+07  2.283631e+07  2.541336e+07   \n",
            "std    6.265457e+07  6.723947e+07  7.292135e+07  8.172299e+07  9.168662e+07   \n",
            "min    0.000000e+00  0.000000e+00  0.000000e+00  0.000000e+00  0.000000e+00   \n",
            "25%    1.805250e+05  2.401000e+05  2.527500e+05  2.672000e+05  2.957000e+05   \n",
            "50%    1.026850e+06  1.055400e+06  1.123300e+06  1.426300e+06  1.581300e+06   \n",
            "75%    6.002175e+06  6.022700e+06  6.131650e+06  6.541100e+06  7.515200e+06   \n",
            "max    4.322765e+08  4.717734e+08  5.132693e+08  5.760900e+08  6.484006e+08   \n",
            "\n",
            "       ...          2011          2012          2013          2014  \\\n",
            "count  ...  2.070000e+02  2.070000e+02  2.060000e+02  2.060000e+02   \n",
            "mean   ...  1.097995e+08  1.152548e+08  1.227323e+08  1.304919e+08   \n",
            "std    ...  3.311927e+08  3.445272e+08  3.640435e+08  3.856646e+08   \n",
            "min    ...  0.000000e+00  0.000000e+00  0.000000e+00  0.000000e+00   \n",
            "25%    ...  5.605603e+05  6.707013e+05  6.314760e+05  6.133650e+05   \n",
            "50%    ...  3.795755e+06  4.430383e+06  4.717098e+06  4.692321e+06   \n",
            "75%    ...  3.860375e+07  3.956739e+07  4.334172e+07  4.438100e+07   \n",
            "max    ...  2.786954e+09  2.894055e+09  3.048275e+09  3.227291e+09   \n",
            "\n",
            "               2015          2016          2017          2018          2019  \\\n",
            "count  2.020000e+02  2.030000e+02  2.020000e+02  2.050000e+02  2.020000e+02   \n",
            "mean   1.438129e+08  1.535258e+08  1.664842e+08  1.765104e+08  1.859243e+08   \n",
            "std    4.184408e+08  4.465309e+08  4.813168e+08  5.115410e+08  5.351279e+08   \n",
            "min    3.036000e+03  8.990000e+02  3.160000e+02  3.160000e+02  3.160000e+02   \n",
            "25%    8.978162e+05  8.016580e+05  9.267988e+05  6.028930e+05  6.927148e+05   \n",
            "50%    4.996681e+06  5.284585e+06  5.591210e+06  6.442442e+06  6.489805e+06   \n",
            "75%    4.972211e+07  5.356533e+07  5.866841e+07  6.456964e+07  6.577940e+07   \n",
            "max    3.466478e+09  3.705102e+09  3.973790e+09  4.242448e+09  4.396666e+09   \n",
            "\n",
            "       2020  \n",
            "count   0.0  \n",
            "mean    NaN  \n",
            "std     NaN  \n",
            "min     NaN  \n",
            "25%     NaN  \n",
            "50%     NaN  \n",
            "75%     NaN  \n",
            "max     NaN  \n",
            "\n",
            "[8 rows x 51 columns]\n"
          ]
        }
      ]
    }
  ]
}